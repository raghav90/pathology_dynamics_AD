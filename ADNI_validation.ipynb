{
 "cells": [
  {
   "cell_type": "code",
   "execution_count": 1,
   "id": "e467a40d",
   "metadata": {},
   "outputs": [],
   "source": [
    "import pandas as pd\n",
    "import helper_fn as hf\n",
    "from sklearn.svm import LinearSVC\n",
    "from sklearn.linear_model import LogisticRegression\n",
    "import sklearn.feature_selection as fs\n",
    "from sklearn.model_selection import train_test_split\n",
    "import sklearn.metrics as sm\n",
    "from sklearn.decomposition import PCA\n",
    "from sklearn.manifold import TSNE\n",
    "import mifs\n",
    "from sklearn.model_selection import cross_val_score\n",
    "import seaborn as sns\n",
    "import matplotlib.pyplot as plt\n",
    "from sklearn.preprocessing import StandardScaler\n",
    "import matplotlib.patches as mpatches\n",
    "from sklearn.cluster import OPTICS, cluster_optics_dbscan\n",
    "from sklearn.metrics import auc\n",
    "from sklearn.metrics import plot_roc_curve\n",
    "from sklearn.model_selection import StratifiedKFold\n",
    "import os\n",
    "from scipy.stats import kruskal\n",
    "from tabulate import tabulate\n",
    "import numpy as np\n",
    "from collections import Counter\n",
    "from sklearn.cluster import KMeans\n",
    "from sklearn.neighbors import KNeighborsClassifier\n",
    "from scipy.special import logit\n",
    "import pdb\n",
    "from matplotlib.lines import Line2D\n",
    "from sklearn.neural_network import MLPClassifier\n",
    "from sklearn.ensemble import RandomForestClassifier\n",
    "from scipy.stats import mannwhitneyu\n",
    "import scipy.stats as stats\n",
    "import plotly.express as px\n",
    "from scipy.stats import entropy\n",
    "from mpl_toolkits.axes_grid1.inset_locator import inset_axes\n",
    "from statannot import add_stat_annotation\n",
    "from sklearn.impute import KNNImputer\n",
    "%matplotlib inline\n",
    "%load_ext autoreload\n",
    "%autoreload 2"
   ]
  },
  {
   "cell_type": "code",
   "execution_count": 2,
   "id": "1b64f145",
   "metadata": {},
   "outputs": [],
   "source": [
    "adni_figure_path = \"/Users/raghavtandon/Documents/PhD/multi-modal/figures_publication/ADNI/\""
   ]
  },
  {
   "cell_type": "markdown",
   "id": "4c5a1df8",
   "metadata": {},
   "source": [
    "# Read data\n",
    "1. Read the Lah Data\n",
    "2. read the ADNI data"
   ]
  },
  {
   "cell_type": "markdown",
   "id": "fa7501da",
   "metadata": {},
   "source": [
    "## Difference in Emory and ADNI distributions"
   ]
  },
  {
   "cell_type": "markdown",
   "id": "13040641",
   "metadata": {},
   "source": [
    "### Read Lah data"
   ]
  },
  {
   "cell_type": "code",
   "execution_count": 3,
   "id": "65a97a34",
   "metadata": {},
   "outputs": [],
   "source": [
    "data_save_path = \"/Users/raghavtandon/Documents/PhD/multi-modal/data\"\n",
    "X, X_unscaled, label_df = hf.readData()\n",
    "sbj_asymad = label_df[label_df[\"DX\"] == \"AsymAD\"][\"sbj\"]\n",
    "X = X[X.index.isin(sbj_asymad)]\n",
    "X_unscaled = X_unscaled[X_unscaled.index.isin(sbj_asymad)]\n",
    "lah_peptides = [\"LGADMEDVR\", \"LGADMEDVCGR\", \"GLQEAAEER\", \"YDNSLK\", \"AQALEQAK\"]\n",
    "imputer = KNNImputer(n_neighbors=15)"
   ]
  },
  {
   "cell_type": "markdown",
   "id": "7b2c4ea2",
   "metadata": {},
   "source": [
    "### Function to read the ADNI data and clean its column names"
   ]
  },
  {
   "cell_type": "code",
   "execution_count": 8,
   "id": "84b4e6a4",
   "metadata": {},
   "outputs": [],
   "source": [
    "path=\"/Users/raghavtandon/Documents/PhD/multi-modal/data/ADNI/adni_followup_av45.csv\"\n",
    "def read_adni(path):\n",
    "    df_adni = pd.read_csv(path)\n",
    "    old_cols = df_adni.columns[37:].tolist()\n",
    "    new_cols = [x.split(\";\")[-1] for x in old_cols]\n",
    "    rename_dict = dict(zip(old_cols, new_cols))\n",
    "    df_adni.rename(columns=rename_dict, inplace=True)\n",
    "    return df_adni"
   ]
  },
  {
   "cell_type": "code",
   "execution_count": 9,
   "id": "0430cb1a",
   "metadata": {},
   "outputs": [
    {
     "name": "stdout",
     "output_type": "stream",
     "text": [
      "DX\n",
      "AD         74.05\n",
      "AsymAD     75.35\n",
      "Control    70.90\n",
      "Name: AGE, dtype: float64\n"
     ]
    }
   ],
   "source": [
    "## Print the age distributions in ADNI data\n",
    "df_adni = read_adni(path)\n",
    "print(df_adni.groupby(\"DX\").median()[\"AGE\"])"
   ]
  },
  {
   "cell_type": "code",
   "execution_count": 10,
   "id": "4628087f",
   "metadata": {},
   "outputs": [],
   "source": [
    "df_adni = df_adni[df_adni[\"DX\"]==\"AsymAD\"]\n",
    "peptides = [\"LGADMEDVR\", \"LGADMEDVCGR\", \"GLQEAAEER\", \"YDNSLK\", \"AQALEQAK\"]\n",
    "# peptides = ['VLTPTQVK','QSELSAK','QVVAGLNFR','LFEELVR','VIGSGCNLDSAR',\n",
    "#             'IESQTQEEVR','LGADMEDVCGR','EAFSLFDK','AQALEQAK','GDLGIEIPAEK']\n",
    "df_lah = X_unscaled[peptides]\n",
    "df_adni = df_adni[peptides]\n",
    "df_adni.columns.name = \"Peptide\"\n",
    "df_lah = df_lah.melt()\n",
    "df_lah[\"source\"] = \"Emory\"\n",
    "df_adni = df_adni.melt()\n",
    "df_adni[\"source\"] = \"ADNI\"\n",
    "df_final = pd.concat([df_lah, df_adni], axis=0)"
   ]
  },
  {
   "cell_type": "markdown",
   "id": "4ef01391",
   "metadata": {},
   "source": [
    "### Compare peptide distributions between ADNI and EHBS"
   ]
  },
  {
   "cell_type": "code",
   "execution_count": null,
   "id": "2d6c4134",
   "metadata": {},
   "outputs": [],
   "source": [
    "fig, ax = plt.subplots(1,5, figsize=(15,3), sharex=False, sharey=False)\n",
    "for i in range(5):\n",
    "    pep = lah_peptides[i]\n",
    "    df_final_sub = df_final[df_final[\"Peptide\"].isin([pep])]\n",
    "    sns.violinplot(data=df_final_sub, ax=ax[i], x=\"Peptide\", y=\"value\", hue=\"source\")\n",
    "    add_stat_annotation(ax[i], data=df_final_sub, x=\"Peptide\", y=\"value\", hue=\"source\", \n",
    "                        box_pairs=[((pep, \"Emory\"),(pep, \"ADNI\"))],\n",
    "                    test='Mann-Whitney', text_format='star', loc='outside', verbose=0, fontsize=20)\n",
    "    ax[i].legend(loc=0, fancybox=True, framealpha=0.2)\n",
    "    ax[i].set_ylabel(\"Expression\", fontsize=15); ax[i].set_xlabel(\"\"); ax[i].set_xticklabels([pep], fontsize=15)\n",
    "fig.tight_layout()\n",
    "fig.savefig(\"/Users/raghavtandon/Documents/PhD/multi-modal/figures_publication/ADNI/distr.png\")"
   ]
  },
  {
   "cell_type": "markdown",
   "id": "dd647e77",
   "metadata": {},
   "source": [
    "## t-SNE (CN-like vs AD_like AsymAD)"
   ]
  },
  {
   "cell_type": "code",
   "execution_count": 11,
   "id": "00e5de1f",
   "metadata": {},
   "outputs": [],
   "source": [
    "ss = StandardScaler()\n",
    "df_adni = read_adni(path)\n",
    "df_adni = df_adni[df_adni[\"DX\"]==\"AsymAD\"]\n",
    "progression_col = \"fdg_progression\"\n",
    "df_adni = df_adni[df_adni[progression_col].isin([\"YES\", \"NO\"])]\n",
    "\n",
    "y_adni = df_adni[progression_col].map({\"YES\":1, \"NO\":0})\n",
    "# peptides = [\"LGADMEDVR\", \"LGADMEDVCGR\", \"GLQEAAEER\", \"YDNSLK\", \"AQALEQAK\"]\n",
    "df_lah = X_unscaled[peptides]\n",
    "df_adni = df_adni[peptides]\n",
    "df_adni_imputed = imputer.fit_transform(df_adni)\n",
    "df_adni = pd.DataFrame(df_adni_imputed, index=df_adni.index, columns=df_adni.columns)\n",
    "df_adni_scaled = ss.fit_transform(df_adni)"
   ]
  },
  {
   "cell_type": "code",
   "execution_count": 12,
   "id": "dd752ecb",
   "metadata": {},
   "outputs": [
    {
     "name": "stderr",
     "output_type": "stream",
     "text": [
      "/Users/raghavtandon/opt/miniconda3/envs/omics/lib/python3.6/site-packages/ipykernel_launcher.py:5: SettingWithCopyWarning:\n",
      "\n",
      "\n",
      "A value is trying to be set on a copy of a slice from a DataFrame.\n",
      "Try using .loc[row_indexer,col_indexer] = value instead\n",
      "\n",
      "See the caveats in the documentation: https://pandas.pydata.org/pandas-docs/stable/user_guide/indexing.html#returning-a-view-versus-a-copy\n",
      "\n"
     ]
    }
   ],
   "source": [
    "df_lah_master = pd.read_csv(\"/Users/raghavtandon/Documents/PhD/multi-modal/data/final_viz_dataframe.csv\", index_col='sbj')\n",
    "y_lah = df_lah_master[\"predicted_final\"]\n",
    "y_lah = y_lah[y_lah.isin([\"Control-like ASYMAD\", \"AD-like ASYMAD\"])]\n",
    "y_lah = y_lah.map({\"AD-like ASYMAD\":1, \"Control-like ASYMAD\":0})\n",
    "df_lah[\"y\"] = y_lah\n",
    "y_lah = df_lah[\"y\"]\n",
    "del df_lah[\"y\"]"
   ]
  },
  {
   "cell_type": "markdown",
   "id": "ab57d082",
   "metadata": {},
   "source": [
    "### Plot the t-SNE for CN-like vs AD-like in ADNI"
   ]
  },
  {
   "cell_type": "code",
   "execution_count": 21,
   "id": "a4a3f7da",
   "metadata": {},
   "outputs": [
    {
     "name": "stdout",
     "output_type": "stream",
     "text": [
      "KL distance - 0.2425534427165985\n"
     ]
    },
    {
     "data": {
      "image/png": "[encoded data removed]",
      "text/plain": [
       "<Figure size 360x360 with 1 Axes>"
      ]
     },
     "metadata": {
      "needs_background": "light"
     },
     "output_type": "display_data"
    }
   ],
   "source": [
    "# df = df_adni\n",
    "df = df_adni_scaled\n",
    "fig, ax = plt.subplots(1,1, figsize=(5,5))\n",
    "random_state=1\n",
    "tsne = TSNE(n_components=2, random_state=random_state)\n",
    "\n",
    "tsne_scores = tsne.fit_transform(df)\n",
    "print(\"KL distance - {}\".format(tsne.kl_divergence_))\n",
    "ax.scatter(tsne_scores[:,0], tsne_scores[:,1], c=y_adni.replace({0: \"#006600\", 1: \"#990000\"}), s=50)\n",
    "ax.set_xlabel(\"tsne1\", fontsize=15); ax.set_ylabel(\"tsne2\", fontsize=15)\n",
    "classes10 = [\"Control\", \"AD\"]\n",
    "classes11 = [\"Control-like \\n AsymAD\", \"AD-like \\n AsymAD\"]\n",
    "lb2 = {'Control': \"#006600\", 'AD': \"#990000\"}\n",
    "recs11 = hf.add_legend(classes11, [lb2[i] for i in classes10[:2]])\n",
    "legend_properties = {'size':12, 'family':'Arial'}\n",
    "ax.legend(recs11, [i for i in classes11], fontsize=12,\n",
    "                 prop=legend_properties,\n",
    "\t\t\t\tframealpha=0.25,\n",
    "\t\t\t\tloc=0)\n",
    "fig.savefig(\"/Users/raghavtandon/Documents/PhD/multi-modal/figures_publication/ADNI/jmi_peptides_adni_tsne.png\")"
   ]
  },
  {
   "cell_type": "markdown",
   "id": "1aea7793",
   "metadata": {},
   "source": [
    "## t-SNE (Control vs AD)"
   ]
  },
  {
   "cell_type": "code",
   "execution_count": null,
   "id": "01dcf6d8",
   "metadata": {},
   "outputs": [],
   "source": [
    "df_adni = read_adni(path)\n",
    "df_adni = df_adni[df_adni[\"DX\"].isin([\"Control\", \"AD\"])]\n",
    "y_adni = df_adni[\"DX\"].map({\"Control\":0, \"AD\":1})\n",
    "peptides = [\"ADQDTIR\", \"AQALEQAK\", \"ELQAAQAR\", \"EPVAGDAVPGPK\", \"IASNTQSR\", \"LGADMEDVCGR\", \"VVSSIEQK\", \"YDNSLK\"]\n",
    "df_adni = df_adni[peptides]\n",
    "df_adni_imputed = imputer.fit_transform(df_adni)\n",
    "df_adni = pd.DataFrame(df_adni_imputed, index=df_adni.index, columns=df_adni.columns)\n",
    "df_adni[\"y\"] = y_adni\n",
    "y_adni = df_adni[\"y\"]\n",
    "del df_adni[\"y\"]\n",
    "df_adni_scaled = ss.fit_transform(df_adni)"
   ]
  },
  {
   "cell_type": "code",
   "execution_count": null,
   "id": "ffc38dc8",
   "metadata": {},
   "outputs": [],
   "source": [
    "# df = df_adni\n",
    "df = df_adni_scaled\n",
    "fig, ax = plt.subplots(1,1, figsize=(5,5))\n",
    "random_state=0\n",
    "tsne = TSNE(n_components=2, random_state=random_state)\n",
    "\n",
    "tsne_scores = tsne.fit_transform(df)\n",
    "print(\"KL distance - {}\".format(tsne.kl_divergence_))\n",
    "ax.scatter(tsne_scores[:,0], tsne_scores[:,1], c=y_adni.replace({0: \"#006600\", 1: \"#990000\"}), s=50)\n",
    "ax.set_xlabel(\"tsne1\", fontsize=15); ax.set_ylabel(\"tsne2\", fontsize=15)\n",
    "classes10 = [\"Control\", \"AD\"]\n",
    "classes11 = [\"Control-like \\n AsymAD\", \"AD-like \\n AsymAD\"]\n",
    "lb2 = {'Control': \"#006600\", 'AD': \"#990000\"}\n",
    "recs11 = hf.add_legend(classes11, [lb2[i] for i in classes10[:2]])\n",
    "legend_properties = {'size':12, 'family':'Arial'}\n",
    "ax.legend(recs11, [i for i in classes11], fontsize=12,\n",
    "                 prop=legend_properties,\n",
    "\t\t\t\tframealpha=0.25,\n",
    "\t\t\t\tloc=0)"
   ]
  },
  {
   "cell_type": "markdown",
   "id": "2668cc3f",
   "metadata": {},
   "source": [
    "## Classification - CN/BM- vs AD"
   ]
  },
  {
   "cell_type": "code",
   "execution_count": null,
   "id": "277e9f45",
   "metadata": {},
   "outputs": [],
   "source": [
    "df_adni = read_adni(path)\n",
    "df_adni = df_adni[df_adni[\"DX\"].isin([\"Control\", \"AD\"])]\n",
    "peptides = [\"ADQDTIR\", \"AQALEQAK\", \"ELQAAQAR\", \"EPVAGDAVPGPK\", \"IASNTQSR\", \"LGADMEDVCGR\", \"VVSSIEQK\", \"YDNSLK\"]\n",
    "df_adni.rename(columns={\"RID\":\"sbj\"}, inplace=True)\n",
    "dx_cn_ad = df_adni[[\"sbj\", \"DX\"]]\n",
    "df_adni.set_index(\"sbj\", inplace=True)\n",
    "df_adni = df_adni[peptides]\n",
    "df_adni_imputed = imputer.fit_transform(df_adni)\n",
    "df_adni = pd.DataFrame(df_adni_imputed, index=df_adni.index, columns=df_adni.columns)\n",
    "df_adni_scaled = ss.fit_transform(df_adni[peptides])\n",
    "df_adni_scaled = pd.DataFrame(df_adni_scaled, columns=df_adni.columns, index=df_adni.index)"
   ]
  },
  {
   "cell_type": "code",
   "execution_count": null,
   "id": "267ef741",
   "metadata": {},
   "outputs": [],
   "source": [
    "hf.plotROC(df_adni_scaled, dx_cn_ad, peptides, \"cn_ad\", figure_save_path=adni_figure_path)"
   ]
  },
  {
   "cell_type": "markdown",
   "id": "2143a0a7",
   "metadata": {},
   "source": [
    "## Classification (Cn-like vs AD-like)"
   ]
  },
  {
   "cell_type": "code",
   "execution_count": null,
   "id": "baafa040",
   "metadata": {},
   "outputs": [],
   "source": [
    "df_adni = read_adni(path)\n",
    "df_adni = df_adni[df_adni[\"DX\"].isin([\"AsymAD\"])]\n",
    "progression_col = \"fdg_progression\"\n",
    "df_adni = df_adni[df_adni[progression_col].isin([\"YES\", \"NO\"])]\n",
    "df_adni[progression_col] = df_adni[progression_col].map({\"YES\":1, \"NO\":0})\n",
    "peptides = [\"AQALEQAK\", \"LGADMEDVCGR\", \"LGADMEDVR\", \"GLQEAAEER\", \"YDNSLK\"]\n",
    "df_adni.rename(columns={\"RID\":\"sbj\"}, inplace=True)\n",
    "dx_cn_ad = df_adni[[\"sbj\", progression_col]]\n",
    "df_adni.set_index(\"sbj\", inplace=True)\n",
    "df_adni = df_adni[peptides]\n",
    "df_adni_imputed = imputer.fit_transform(df_adni)\n",
    "df_adni = pd.DataFrame(df_adni_imputed, index=df_adni.index, columns=df_adni.columns)\n",
    "dx_cn_ad.rename(columns={progression_col:\"DX\"}, inplace=True)\n",
    "df_adni = df_adni[peptides]\n",
    "df_adni_scaled = ss.fit_transform(df_adni)\n",
    "df_adni_scaled = pd.DataFrame(df_adni_scaled, columns=df_adni.columns, index=df_adni.index)"
   ]
  },
  {
   "cell_type": "code",
   "execution_count": null,
   "id": "61e91a95",
   "metadata": {},
   "outputs": [],
   "source": [
    "print(\"Count of stable and progressive AsymAD\", Counter(dx_cn_ad[\"DX\"]))"
   ]
  },
  {
   "cell_type": "code",
   "execution_count": null,
   "id": "1917aee6",
   "metadata": {
    "scrolled": false
   },
   "outputs": [],
   "source": [
    "hf.plotROC(df_adni_scaled, dx_cn_ad, peptides, \"cn_like_ad_like\", figure_save_path=adni_figure_path)"
   ]
  },
  {
   "cell_type": "code",
   "execution_count": null,
   "id": "05a21f7f",
   "metadata": {},
   "outputs": [],
   "source": [
    "a = [0.86, 0.57, 0.86, 0.50, 0.71, 1.0]\n",
    "np.mean(a); stats.sem(a)"
   ]
  },
  {
   "cell_type": "markdown",
   "id": "a2c8c3a0",
   "metadata": {},
   "source": [
    "## Important note - The matched data was used from the overall AV45 file. It has the same list of AsymAD subjects (progressives and controls)"
   ]
  },
  {
   "cell_type": "markdown",
   "id": "5ac24650",
   "metadata": {},
   "source": [
    "### Leave one out CV"
   ]
  },
  {
   "cell_type": "code",
   "execution_count": null,
   "id": "995989f8",
   "metadata": {},
   "outputs": [],
   "source": [
    "x_new = pd.merge(df_adni_scaled, dx_cn_ad, left_index=True, right_on=\"sbj\", how=\"inner\")\n",
    "df_adni = x_new[peptides]\n",
    "dx_cn_ad = x_new[[\"sbj\", \"DX\"]]"
   ]
  },
  {
   "cell_type": "code",
   "execution_count": null,
   "id": "a40a431d",
   "metadata": {},
   "outputs": [],
   "source": [
    "from sklearn.model_selection import LeaveOneOut\n",
    "loo = LeaveOneOut()\n",
    "x_adni = df_adni.values\n",
    "y_adni = dx_cn_ad[\"DX\"].values\n",
    "clf = LogisticRegression( C=1.0, random_state=0, dual=False, max_iter=3000, class_weight=\"balanced\")\n",
    "y_true=[];y_pred = [];\n",
    "for i, (train_index, test_index) in enumerate(loo.split(df_adni)):\n",
    "    x_train = x_adni[train_index,:]\n",
    "    x_test = x_adni[test_index,:]\n",
    "    y_train = y_adni[train_index]\n",
    "    y_test = y_adni[test_index]\n",
    "    clf.fit(x_train, y_train)\n",
    "    y_predict = clf.predict(x_test)\n",
    "    y_true.append(y_test)\n",
    "    y_pred.append(y_predict)\n",
    "    "
   ]
  },
  {
   "cell_type": "code",
   "execution_count": null,
   "id": "60d5762b",
   "metadata": {},
   "outputs": [],
   "source": [
    "sm.f1_score(np.array(y_true), np.array(y_pred))"
   ]
  },
  {
   "cell_type": "code",
   "execution_count": null,
   "id": "15dfeb33",
   "metadata": {},
   "outputs": [],
   "source": [
    "sm.top_k_accuracy_score(np.array(y_true), np.array(y_pred))"
   ]
  },
  {
   "cell_type": "code",
   "execution_count": null,
   "id": "5485f53c",
   "metadata": {},
   "outputs": [],
   "source": [
    "viz = sm.plot_roc_curve(clf, x_test, y_test)"
   ]
  },
  {
   "cell_type": "code",
   "execution_count": null,
   "id": "6aeaea92",
   "metadata": {},
   "outputs": [],
   "source": [
    "from sklearn.utils import shuffle\n",
    "X = x_adni; y = y_adni;"
   ]
  },
  {
   "cell_type": "code",
   "execution_count": null,
   "id": "dcd7d41a",
   "metadata": {},
   "outputs": [],
   "source": [
    "for _ in range(100):\n",
    "    X, y = shuffle(X, y)\n",
    "x_train = X[:40,:]; y_train = y[:40]; x_test = X[40:,:]; y_test = y[40:];\n",
    "clf.fit(x_train, y_train)\n",
    "y_pred = clf.predict(x_test)\n",
    "# sm.confusion_matrix(y_test, y_pred)\n",
    "print(sm.f1_score(y_test, y_pred))"
   ]
  },
  {
   "cell_type": "code",
   "execution_count": null,
   "id": "903dae0b",
   "metadata": {},
   "outputs": [],
   "source": [
    "fig, ax = plt.subplots(1,1)\n",
    "mean_fpr = np.linspace(0,1,100)\n",
    "interp_tpr = np.interp(mean_fpr, viz.fpr, viz.tpr)\n",
    "ax.plot(mean_fpr, interp_tpr)\n",
    "viz = sm.plot_roc_curve(clf, x_test, y_test, ax=ax)"
   ]
  },
  {
   "cell_type": "code",
   "execution_count": null,
   "id": "81cfeb1d",
   "metadata": {},
   "outputs": [],
   "source": [
    "viz.roc_auc"
   ]
  },
  {
   "cell_type": "code",
   "execution_count": null,
   "id": "b5b47a7c",
   "metadata": {},
   "outputs": [],
   "source": [
    "viz.fpr; viz.tpr; interp_tpr"
   ]
  },
  {
   "cell_type": "code",
   "execution_count": null,
   "id": "8bf92687",
   "metadata": {},
   "outputs": [],
   "source": [
    "interp_tpr[0] = 0"
   ]
  },
  {
   "cell_type": "code",
   "execution_count": null,
   "id": "a85b6e0e",
   "metadata": {},
   "outputs": [],
   "source": [
    "interp_tpr"
   ]
  },
  {
   "cell_type": "code",
   "execution_count": null,
   "id": "1454f776",
   "metadata": {},
   "outputs": [],
   "source": [
    "tprs = [interp_tpr, interp_tpr]\n",
    "# tprs.append(interp_tpr)"
   ]
  },
  {
   "cell_type": "code",
   "execution_count": null,
   "id": "8fcc58b5",
   "metadata": {},
   "outputs": [],
   "source": [
    "mean_tpr = np.mean(tprs, axis=0)\n",
    "mean_tpr[-1] = 1.0\n",
    "mean_auc = sm.auc(mean_fpr, mean_tpr)"
   ]
  },
  {
   "cell_type": "code",
   "execution_count": null,
   "id": "5c9fd78b",
   "metadata": {},
   "outputs": [],
   "source": [
    "mean_auc"
   ]
  },
  {
   "cell_type": "markdown",
   "id": "fb6bf1f3",
   "metadata": {},
   "source": [
    "## CN vs AsymAD"
   ]
  },
  {
   "cell_type": "code",
   "execution_count": 22,
   "id": "33e2494d",
   "metadata": {},
   "outputs": [],
   "source": [
    "path=\"/Users/raghavtandon/Documents/PhD/multi-modal/data/ADNI/adni_cn_asymad_matched.csv\"\n",
    "def read_adni(path):\n",
    "    df_adni = pd.read_csv(path)\n",
    "    old_cols = df_adni.columns[37:].tolist()\n",
    "    new_cols = [x.split(\";\")[-1] for x in old_cols]\n",
    "    rename_dict = dict(zip(old_cols, new_cols))\n",
    "    df_adni.rename(columns=rename_dict, inplace=True)\n",
    "    return df_adni"
   ]
  },
  {
   "cell_type": "code",
   "execution_count": 23,
   "id": "8a022ff2",
   "metadata": {},
   "outputs": [],
   "source": [
    "df_adni = read_adni(path)\n",
    "df_adni = df_adni[df_adni[\"DX\"]==\"AsymAD\"]\n",
    "peptides = [\"LGADMEDVR\", \"LGADMEDVCGR\", \"GLQEAAEER\", \"YDNSLK\", \"AQALEQAK\"]\n",
    "# peptides = ['VLTPTQVK','QSELSAK','QVVAGLNFR','LFEELVR','VIGSGCNLDSAR',\n",
    "#             'IESQTQEEVR','LGADMEDVCGR','EAFSLFDK','AQALEQAK','GDLGIEIPAEK']\n",
    "df_lah = X_unscaled[peptides]\n",
    "df_adni = df_adni[peptides]\n",
    "df_adni.columns.name = \"Peptide\"\n",
    "df_lah = df_lah.melt()\n",
    "df_lah[\"source\"] = \"Emory\"\n",
    "df_adni = df_adni.melt()\n",
    "df_adni[\"source\"] = \"ADNI\"\n",
    "df_final = pd.concat([df_lah, df_adni], axis=0)"
   ]
  },
  {
   "cell_type": "code",
   "execution_count": null,
   "id": "006ffdc4",
   "metadata": {},
   "outputs": [],
   "source": [
    "fig, ax = plt.subplots(2,5, figsize=(15,3), sharex=False, sharey=False)\n",
    "for i in range(10):\n",
    "    pep = peptides[i]\n",
    "    df_final_sub = df_final[df_final[\"Peptide\"].isin([pep])]\n",
    "    sns.violinplot(data=df_final_sub, ax=ax[i//5,i%5], x=\"Peptide\", y=\"value\", hue=\"source\")\n",
    "    add_stat_annotation(ax[i//5,i%5], data=df_final_sub, x=\"Peptide\", y=\"value\", hue=\"source\", \n",
    "                        box_pairs=[((pep, \"Emory\"),(pep, \"ADNI\"))],\n",
    "                    test='Mann-Whitney', text_format='star', loc='outside', verbose=0, fontsize=20)\n",
    "    ax[i//5,i%5].legend(loc=0, fancybox=True, framealpha=0.2)\n",
    "    ax[i//5,i%5].set_ylabel(\"Expression\", fontsize=15); ax[i//5,i%5].set_xlabel(\"\"); ax[i//5,i%5].set_xticklabels([pep], fontsize=15)\n",
    "fig.tight_layout()\n",
    "fig.savefig(\"/Users/raghavtandon/Documents/PhD/multi-modal/figures_publication/ADNI/distr_cn_asymad.png\")"
   ]
  },
  {
   "cell_type": "markdown",
   "id": "1120f7f4",
   "metadata": {},
   "source": [
    "## t-SNE (Control vs AsymAD)"
   ]
  },
  {
   "cell_type": "code",
   "execution_count": 24,
   "id": "8d782e90",
   "metadata": {},
   "outputs": [],
   "source": [
    "df_adni = read_adni(path)\n",
    "ss = StandardScaler()\n",
    "df_adni = df_adni[df_adni[\"DX\"].isin([\"Control\", \"AsymAD\"])]\n",
    "y_adni = df_adni[\"DX\"].map({\"Control\":0, \"AsymAD\":1})\n",
    "df_adni = df_adni[peptides]\n",
    "df_adni_imputed = imputer.fit_transform(df_adni)\n",
    "df_adni = pd.DataFrame(df_adni_imputed, index=df_adni.index, columns=df_adni.columns)\n",
    "df_adni[\"y\"] = y_adni\n",
    "y_adni = df_adni[\"y\"]\n",
    "del df_adni[\"y\"]\n",
    "df_adni_scaled = ss.fit_transform(df_adni)"
   ]
  },
  {
   "cell_type": "code",
   "execution_count": 28,
   "id": "1d8ec53d",
   "metadata": {},
   "outputs": [
    {
     "name": "stdout",
     "output_type": "stream",
     "text": [
      "KL distance - 0.18209122121334076\n"
     ]
    },
    {
     "data": {
      "image/png": "[encoded data removed]",
      "text/plain": [
       "<Figure size 360x360 with 1 Axes>"
      ]
     },
     "metadata": {
      "needs_background": "light"
     },
     "output_type": "display_data"
    }
   ],
   "source": [
    "# df = df_adni\n",
    "df = df_adni_scaled\n",
    "fig, ax = plt.subplots(1,1, figsize=(5,5))\n",
    "random_state=0\n",
    "tsne = TSNE(n_components=2, random_state=random_state)\n",
    "\n",
    "tsne_scores = tsne.fit_transform(df)\n",
    "print(\"KL distance - {}\".format(tsne.kl_divergence_))\n",
    "ax.scatter(tsne_scores[:,0], tsne_scores[:,1], c=y_adni.replace({0: \"#006600\", 1: \"#990000\"}), s=50)\n",
    "ax.set_xlabel(\"tsne1\", fontsize=15); ax.set_ylabel(\"tsne2\", fontsize=15)\n",
    "classes10 = [\"Control\", \"AD\"]\n",
    "classes11 = [\"Control\", \"AsymAD\"]\n",
    "lb2 = {'Control': \"#006600\", 'AD': \"#990000\"}\n",
    "recs11 = hf.add_legend(classes11, [lb2[i] for i in classes10[:2]])\n",
    "legend_properties = {'size':12, 'family':'Arial'}\n",
    "ax.legend(recs11, [i for i in classes11], fontsize=12,\n",
    "                 prop=legend_properties,\n",
    "\t\t\t\tframealpha=0.25,\n",
    "\t\t\t\tloc=0)\n",
    "fig.savefig(\"/Users/raghavtandon/Documents/PhD/multi-modal/figures_publication/ADNI/cn_asymad_tsne.png\")"
   ]
  },
  {
   "cell_type": "markdown",
   "id": "b57399e5",
   "metadata": {},
   "source": [
    "## Classification CN/BM- vs AsymAD"
   ]
  },
  {
   "cell_type": "code",
   "execution_count": null,
   "id": "75b9d619",
   "metadata": {},
   "outputs": [],
   "source": [
    "df_adni = read_adni(path)\n",
    "df_adni = df_adni[df_adni[\"DX\"].isin([\"Control\", \"AsymAD\"])]\n",
    "df_adni.rename(columns={\"RID\":\"sbj\"}, inplace=True)\n",
    "dx_cn_ad = df_adni[[\"sbj\", \"DX\"]]\n",
    "df_adni.set_index(\"sbj\", inplace=True)\n",
    "df_adni = df_adni[peptides]\n",
    "df_adni_imputed = imputer.fit_transform(df_adni)\n",
    "df_adni = pd.DataFrame(df_adni_imputed, index=df_adni.index, columns=df_adni.columns)\n",
    "df_adni_scaled = ss.fit_transform(df_adni[peptides])\n",
    "df_adni_scaled = pd.DataFrame(df_adni_scaled, columns=df_adni.columns, index=df_adni.index)"
   ]
  },
  {
   "cell_type": "code",
   "execution_count": null,
   "id": "7c8f0aa6",
   "metadata": {},
   "outputs": [],
   "source": [
    "hf.plotROC(df_adni_scaled, dx_cn_ad, peptides, \"cn_asymad_matched\", figure_save_path=adni_figure_path)"
   ]
  },
  {
   "cell_type": "code",
   "execution_count": null,
   "id": "77e6ffb0",
   "metadata": {},
   "outputs": [],
   "source": [
    "dx_cn_ad"
   ]
  },
  {
   "cell_type": "code",
   "execution_count": null,
   "id": "ab5c09a2",
   "metadata": {},
   "outputs": [],
   "source": []
  }
 ],
 "metadata": {
  "kernelspec": {
   "display_name": "Python 3",
   "language": "python",
   "name": "python3"
  },
  "language_info": {
   "codemirror_mode": {
    "name": "ipython",
    "version": 3
   },
   "file_extension": ".py",
   "mimetype": "text/x-python",
   "name": "python",
   "nbconvert_exporter": "python",
   "pygments_lexer": "ipython3",
   "version": "3.6.15"
  }
 },
 "nbformat": 4,
 "nbformat_minor": 5
}
